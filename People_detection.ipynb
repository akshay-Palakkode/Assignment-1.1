{
  "nbformat": 4,
  "nbformat_minor": 0,
  "metadata": {
    "colab": {
      "provenance": [],
      "mount_file_id": "1C7hMGUj1oR-YAQpmfLV47qEQdnpLikZv",
      "authorship_tag": "ABX9TyNaNxpd9QEdBEI76BIS7AWy",
      "include_colab_link": true
    },
    "kernelspec": {
      "name": "python3",
      "display_name": "Python 3"
    },
    "language_info": {
      "name": "python"
    }
  },
  "cells": [
    {
      "cell_type": "markdown",
      "metadata": {
        "id": "view-in-github",
        "colab_type": "text"
      },
      "source": [
        "<a href=\"https://colab.research.google.com/github/akshay-Palakkode/Assignment-1.1/blob/master/People_detection.ipynb\" target=\"_parent\"><img src=\"https://colab.research.google.com/assets/colab-badge.svg\" alt=\"Open In Colab\"/></a>"
      ]
    },
    {
      "cell_type": "code",
      "source": [
        "%cd /content/drive/MyDrive/CCTV Surveilance"
      ],
      "metadata": {
        "colab": {
          "base_uri": "https://localhost:8080/"
        },
        "id": "imAsJGnKny8h",
        "outputId": "d47815bc-f424-4186-ab70-b7c730cc8a67"
      },
      "execution_count": null,
      "outputs": [
        {
          "output_type": "stream",
          "name": "stdout",
          "text": [
            "/content/drive/.shortcut-targets-by-id/1rPi3Dyi-wUAmDiMyPB4zV3291B6_k7f_/CCTV Surveilance\n"
          ]
        }
      ]
    },
    {
      "cell_type": "code",
      "source": [
        "!ls"
      ],
      "metadata": {
        "colab": {
          "base_uri": "https://localhost:8080/"
        },
        "id": "kIxQMkrOn3T9",
        "outputId": "d858fd03-1a16-489c-b247-6244fb4df738"
      },
      "execution_count": null,
      "outputs": [
        {
          "output_type": "stream",
          "name": "stdout",
          "text": [
            "'Existing Tiger CCTV footage'\n"
          ]
        }
      ]
    },
    {
      "cell_type": "code",
      "source": [
        "%cd Existing Tiger CCTV footage"
      ],
      "metadata": {
        "colab": {
          "base_uri": "https://localhost:8080/"
        },
        "id": "ePW5DreroVby",
        "outputId": "68bf9e59-106d-487e-f0c2-86db2edc05ad"
      },
      "execution_count": null,
      "outputs": [
        {
          "output_type": "stream",
          "name": "stdout",
          "text": [
            "/content/drive/.shortcut-targets-by-id/1rPi3Dyi-wUAmDiMyPB4zV3291B6_k7f_/CCTV Surveilance/Existing Tiger CCTV footage\n"
          ]
        }
      ]
    },
    {
      "cell_type": "code",
      "source": [
        "!ls"
      ],
      "metadata": {
        "colab": {
          "base_uri": "https://localhost:8080/"
        },
        "id": "ZtSx085Uoe0R",
        "outputId": "062f3756-fec7-420b-bb1c-44c91dec621b"
      },
      "execution_count": null,
      "outputs": [
        {
          "output_type": "stream",
          "name": "stdout",
          "text": [
            "1Dec2022  22Sep2022  23Sep2022\n"
          ]
        }
      ]
    },
    {
      "cell_type": "code",
      "source": [
        "import os\n",
        "import cv2"
      ],
      "metadata": {
        "id": "7YxEhCFJohEw"
      },
      "execution_count": null,
      "outputs": []
    },
    {
      "cell_type": "code",
      "source": [
        "!git init"
      ],
      "metadata": {
        "colab": {
          "base_uri": "https://localhost:8080/"
        },
        "id": "Xp56dJH_olS8",
        "outputId": "c030f75f-63f4-4dae-f5a2-b7e5fd2a3aca"
      },
      "execution_count": null,
      "outputs": [
        {
          "output_type": "stream",
          "name": "stdout",
          "text": [
            "Initialized empty Git repository in /content/drive/.shortcut-targets-by-id/1rPi3Dyi-wUAmDiMyPB4zV3291B6_k7f_/CCTV Surveilance/Existing Tiger CCTV footage/.git/\n"
          ]
        }
      ]
    },
    {
      "cell_type": "code",
      "source": [],
      "metadata": {
        "id": "5IrCsWPbprAN"
      },
      "execution_count": null,
      "outputs": []
    }
  ]
}